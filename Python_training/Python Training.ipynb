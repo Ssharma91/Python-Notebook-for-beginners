{
 "cells": [
  {
   "cell_type": "markdown",
   "metadata": {},
   "source": [
    "# PYTHON SESSION - For Beginners"
   ]
  },
  {
   "cell_type": "markdown",
   "metadata": {},
   "source": [
    "<img src = \"Python_gif.gif\" align = \"left\" width=\"200\">"
   ]
  },
  {
   "cell_type": "markdown",
   "metadata": {},
   "source": [
    "### Content List\n",
    "\n",
    "#### Session 1.0 \n",
    "1. [Basics of Python for Data Analysis](#1)\n",
    "    1. [Brief History and why learn Python?](#1)\n",
    "    2. [How to install Python?](#1)\n",
    "2. [Python DataTypes , Iterations and Conditional Constructs](#2)\n",
    "    1. [Python Data Types](#2)\n",
    "    2. [Python Iteration and Conditional Constructs](#5)\n",
    "\n",
    "#### Session 2.0\n",
    "\n",
    "3. [Exploratory analysis in Python using Pandas](#3)\n",
    "    1. [Frequently used Python Libraries](#2)\n",
    "    2. [Introduction to Numpy](#3)\n",
    "    3. [Introduction to series and dataframes](#4)"
   ]
  },
  {
   "cell_type": "markdown",
   "metadata": {},
   "source": [
    "<a id=\"1\"></a>"
   ]
  },
  {
   "cell_type": "markdown",
   "metadata": {},
   "source": [
    "## 1. Basics of Python for Data Analysis\n",
    "<strong><em> <span style=\"color:Blue\">Brief History </span></em></strong>\n",
    "\n",
    "* Python is a high-level, interpreted, interactive and object-oriented scripting language. \n",
    "* Conceived in **1980s** and Python 3.0 was rolled out in 2008.\n",
    "\n",
    "<strong><em> <span style=\"color:Blue\">Why learn Python </span> </em></strong>\n",
    "* Open source. It's free !!\n",
    "* Huge base of modules and libraries available.\n"
   ]
  },
  {
   "cell_type": "markdown",
   "metadata": {},
   "source": [
    "<div class=\"alert alert-block alert-info\">\n",
    "<b>Fun Fact:</b> the name of the Python programming language comes from an old BBC television comedy sketch series called Monty Python's Flying Circus. </div>"
   ]
  },
  {
   "cell_type": "markdown",
   "metadata": {},
   "source": [
    "<strong><em> <span style=\"color:Blue\">How to install Python</span></em></strong>\n",
    "* Anaconda Navigator(GUI) : https://www.anaconda.com/products/individual       "
   ]
  },
  {
   "cell_type": "markdown",
   "metadata": {},
   "source": [
    "<img src=\"Anaconda_site.jpg\" width = 600 align = \"left\">"
   ]
  },
  {
   "cell_type": "markdown",
   "metadata": {},
   "source": [
    "<img src=\"Python snap.png\" width = 600 align = \"left\">"
   ]
  },
  {
   "cell_type": "markdown",
   "metadata": {},
   "source": [
    "<strong><span style=\"color:Blue\">Install packages on Jupyter easily </span></strong> \n",
    "\n",
    "```python\n",
    "!pip install seaborn\n",
    "```"
   ]
  },
  {
   "cell_type": "markdown",
   "metadata": {},
   "source": [
    "<div class=\"alert alert-block alert-info\">\n",
    "<b>Try it with me:</b> https://www.programiz.com/python-programming/online-compiler/ </div>   "
   ]
  },
  {
   "cell_type": "markdown",
   "metadata": {},
   "source": [
    "<a id=\"2\"></a>"
   ]
  },
  {
   "cell_type": "markdown",
   "metadata": {},
   "source": [
    "## 2. Python DataTypes , Iterations and Conditional Constructs\n",
    "<strong><span style=\"color:Blue\">A. Python DataTypes </span></strong> Python has five standard data types : \n",
    "\n",
    "<strong><span style=\"color:Red\"> Numbers</span></strong>: Stores numeric objects."
   ]
  },
  {
   "cell_type": "code",
   "execution_count": 61,
   "metadata": {},
   "outputs": [
    {
     "data": {
      "text/plain": [
       "int"
      ]
     },
     "execution_count": 61,
     "metadata": {},
     "output_type": "execute_result"
    }
   ],
   "source": [
    "Sales = 20.8\n",
    "CID = 10\n",
    "type(CID)"
   ]
  },
  {
   "cell_type": "markdown",
   "metadata": {},
   "source": [
    "<code style=\"background:yellow;color:black\"><b>Types of Numeric variables </b></code> :  int , float , Long and Complex"
   ]
  },
  {
   "cell_type": "markdown",
   "metadata": {},
   "source": [
    "<strong><span style=\"color:Red\"> Strings</span>:</strong> Contiguous set of character."
   ]
  },
  {
   "cell_type": "code",
   "execution_count": 112,
   "metadata": {},
   "outputs": [
    {
     "name": "stdout",
     "output_type": "stream",
     "text": [
      "JCP closed 154 stores :(\n"
     ]
    }
   ],
   "source": [
    "str = \"JCP closed 154 stores :(\"\n",
    "print (str) "
   ]
  },
  {
   "cell_type": "markdown",
   "metadata": {},
   "source": [
    "<strong><span style=\"color:Red\"> Lists </span></strong>:  \n",
    "- Mutable  \n",
    "- Can contain heterogenous data  \n",
    "- Denotes by []  "
   ]
  },
  {
   "cell_type": "code",
   "execution_count": 63,
   "metadata": {},
   "outputs": [
    {
     "name": "stdout",
     "output_type": "stream",
     "text": [
      "[11, 'Online', 15.1, 'Mens']\n"
     ]
    }
   ],
   "source": [
    "list = [ 11, \"Online\", 15.1]\n",
    "list.append(\"Mens\")\n",
    "\n",
    "#add lists\n",
    "#list[1] = \"Stores\"\n",
    "print (list) "
   ]
  },
  {
   "cell_type": "markdown",
   "metadata": {},
   "source": [
    "<strong><span style=\"color:Red\"> Tuples </span></strong>: \n",
    "- Somewhat similar to list.\n",
    "- Immutable.\n",
    "- Denoted by ()"
   ]
  },
  {
   "cell_type": "code",
   "execution_count": 67,
   "metadata": {},
   "outputs": [
    {
     "name": "stdout",
     "output_type": "stream",
     "text": [
      "(11, 'Online', 15.1)\n"
     ]
    }
   ],
   "source": [
    "tuple_stuborn = (11, \"Online\", 15.1)\n",
    "print (tuple_stuborn)\n",
    "#tuple_stuborn[1] = \"Stores\"\n",
    "#print (tuple_stuborn)"
   ]
  },
  {
   "cell_type": "markdown",
   "metadata": {},
   "source": [
    "<div class=\"alert alert-block alert-danger\">\n",
    "<b>Why to use tuples then :</b> Tuples are faster than lists. If you're defining a constant set of values and all you're ever going to do with it is iterate through it, use a tuple instead of a list.\n",
    "It makes your code safer if you “write-protect” data that does not need to be changed\n",
    "</div>"
   ]
  },
  {
   "cell_type": "markdown",
   "metadata": {},
   "source": [
    "<strong><span style=\"color:Red\">Dictionary </span></strong>: \n",
    "- Similar to hashtables\n",
    "- Mutable\n",
    "- Denoted by {}\n"
   ]
  },
  {
   "cell_type": "code",
   "execution_count": 70,
   "metadata": {},
   "outputs": [
    {
     "name": "stdout",
     "output_type": "stream",
     "text": [
      "{'CID': [11, 36, 47], 'Channel': 'Online', 'Sales': '>$500'}\n",
      "dict_keys(['CID', 'Channel', 'Sales'])\n",
      "dict_values([[11, 36, 47], 'Online', '>$500'])\n"
     ]
    },
    {
     "data": {
      "text/plain": [
       "'>$500'"
      ]
     },
     "execution_count": 70,
     "metadata": {},
     "output_type": "execute_result"
    }
   ],
   "source": [
    "dict = {'CID': [11,36,47] ,'Channel':'Online', 'Sales': \">$500\"}\n",
    "print(dict)\n",
    "print (dict.keys())\n",
    "print (dict.values())\n",
    "dict['Sales']"
   ]
  },
  {
   "cell_type": "markdown",
   "metadata": {},
   "source": [
    "<div class=\"alert alert-block alert-danger\">\n",
    "<b>Where did the ARRAYS go ? </b> Python doesn't have built in support for arrays. You need to import array module to do so.\n",
    "</div>\n",
    "\n",
    "```python\n",
    "import array as arr\n",
    "a = arr.array('i', [2, 4, 6, 8])\n",
    "```"
   ]
  },
  {
   "cell_type": "markdown",
   "metadata": {},
   "source": [
    "<a id=\"5\"></a>"
   ]
  },
  {
   "cell_type": "markdown",
   "metadata": {},
   "source": [
    "<strong><span style=\"color:Blue\">B. Python Iteration and Conditional Constructs: </span></strong> \n",
    "        \n",
    "<strong><span style=\"color:Red\">If Else Condition : </span></strong> "
   ]
  },
  {
   "cell_type": "code",
   "execution_count": 5,
   "metadata": {},
   "outputs": [
    {
     "name": "stdout",
     "output_type": "stream",
     "text": [
      "Duhh!\n"
     ]
    }
   ],
   "source": [
    "is_Python_easy = \"Yes\"\n",
    "\n",
    "if ( is_Python_easy == \"Yes\" ) : print (\"Yayy !!\")\n",
    "elif (is_Python_easy == \"No\") : print (\"Oh no !!\")\n",
    "else : print (\"Duhh!\")"
   ]
  },
  {
   "cell_type": "markdown",
   "metadata": {},
   "source": [
    "<strong><span style=\"color:Red\">Loops:</span> </strong> They can run **FOR** a **WHILE**"
   ]
  },
  {
   "cell_type": "code",
   "execution_count": 57,
   "metadata": {},
   "outputs": [
    {
     "name": "stdout",
     "output_type": "stream",
     "text": [
      "36 is a platinum customer\n",
      "47 is a platinum customer\n",
      "\n",
      "\n",
      "36 is a platinum customer\n",
      "47 is a platinum customer\n"
     ]
    }
   ],
   "source": [
    "Customer_list = [[11 , 100],\n",
    "                [36 , 550],\n",
    "                [47 , 1000]]\n",
    "list_len = len(Customer_list)\n",
    "\n",
    "# For Loop\n",
    "for i in range(0,list_len):\n",
    "    if(Customer_list[i][1] > 500):\n",
    "        print (str(Customer_list[i][0]) + \" is a platinum customer\")\n",
    "\n",
    "print(\"\\n\")    \n",
    "#While Loop\n",
    "j=0  \n",
    "while j < list_len:\n",
    "    if(Customer_list[j][1] > 500):\n",
    "        print (str(Customer_list[j][0]) + \" is a platinum customer\")\n",
    "    j+= 1"
   ]
  },
  {
   "cell_type": "markdown",
   "metadata": {},
   "source": [
    "<strong><span style=\"color:Red\">Functions:</span></strong> "
   ]
  },
  {
   "cell_type": "code",
   "execution_count": 58,
   "metadata": {},
   "outputs": [
    {
     "name": "stdout",
     "output_type": "stream",
     "text": [
      "Better luck next time !\n",
      "Correct guess\n",
      "Better luck next time !\n",
      "Better luck next time !\n"
     ]
    }
   ],
   "source": [
    "def covid_vaccine(months):\n",
    "    correct_guess = 3\n",
    "    if(months==correct_guess):\n",
    "        print(\"Correct guess\")\n",
    "    else :\n",
    "        print(\"Better luck next time !\")\n",
    "                         \n",
    "covid_vaccine(2)\n",
    "covid_vaccine(3)\n",
    "covid_vaccine(4)\n",
    "covid_vaccine(5)"
   ]
  },
  {
   "cell_type": "markdown",
   "metadata": {},
   "source": [
    "<div class=\"alert alert-block alert-info\">\n",
    "<b> Bonus Section </b></div>"
   ]
  },
  {
   "cell_type": "markdown",
   "metadata": {},
   "source": [
    "<strong><span style=\"color:Red\"> Type conversion : </span></strong>\n",
    "```Python\n",
    "int(3.45)\n",
    "str(12)\n",
    "list(\"ACOE\")\n",
    "```\n",
    "\n",
    "<strong><span style=\"color:Red\">Mathematical Functions/methods</span></strong>\n",
    "```Python\n",
    "import math\n",
    "math.ceil(1596)\n",
    "math.log(10)\n",
    "```\n",
    "\n",
    "<strong><span style=\"color:Red\">Frequently used Functions</span></strong>\n",
    "```Python\n",
    "a=[2,3,4,5]\n",
    "len(a)\n",
    "range(0,len(a))\n",
    "min(a)\n",
    "```\n",
    "\n",
    "<strong><span style=\"color:Red\">Time Functionality</span></strong>\n",
    "```Python\n",
    "import time\n",
    "start_time = time.time()   #time is a module and time() is a function\n",
    "main()\n",
    "#Your code goes here\n",
    "print(\"--- %s seconds ---\" % (time.time() - start_time))\n",
    "```\n",
    "    \n",
    "<strong><span style=\"color:Red\">Lambda Functions : </span></strong> A lambda function is a small anonymous function which can take any number of arguments, but can only have one expression.\n",
    "```Python\n",
    "x=lambda a : \"Correct guess\" if months == 3 else \"Better luck next time !\"\n",
    "print(x(2))\n",
    "```"
   ]
  },
  {
   "cell_type": "code",
   "execution_count": 73,
   "metadata": {},
   "outputs": [
    {
     "data": {
      "text/plain": [
       "3"
      ]
     },
     "execution_count": 73,
     "metadata": {},
     "output_type": "execute_result"
    }
   ],
   "source": [
    "int(3.45)\n",
    "#str(12)\n",
    "#list(\"ACOE\")"
   ]
  },
  {
   "cell_type": "markdown",
   "metadata": {},
   "source": [
    "<img src = \"real_deal.gif\" align =\"left\">"
   ]
  },
  {
   "cell_type": "markdown",
   "metadata": {},
   "source": [
    "<a id=\"3\"></a>"
   ]
  },
  {
   "cell_type": "markdown",
   "metadata": {},
   "source": [
    "## 3. Exploratory analysis in Python   \n",
    "<div class=\"alert alert-block alert-danger\">\n",
    "<b> Wait before that :</b>  What is are Modules, Libraries and Package?A Module is a file which contains various Python functions and global variables. It is simply just .py extension file which has python executable code.Package is collection of modules and Library is collection of Packages\n",
    "</div>"
   ]
  },
  {
   "cell_type": "markdown",
   "metadata": {},
   "source": [
    "\n",
    "<img src=\"module structure.jpg\"> "
   ]
  },
  {
   "cell_type": "markdown",
   "metadata": {},
   "source": [
    "<strong><span style=\"color:Blue\"> A. Python Libraries : </span></strong> "
   ]
  },
  {
   "cell_type": "markdown",
   "metadata": {},
   "source": [
    "<strong><span style=\"color:Green\">  Frequently used libraries in Python : </span></strong> \n",
    "1. **NumPy** stands for Numerical Python. The most powerful feature of NumPy is n-dimensional array. \n",
    "   This library also contains basic linear algebra function.  \n",
    "\n",
    "2. **SciPy** stands for Scientific Python. SciPy is built on NumPy.\n",
    "   It is one of the most useful library for variety of high level science and engineering modules like discrete Fourier transform, Linear Algebra, Optimization and Sparse matrices.  \n",
    "\n",
    "3. **Matplotlib** for plotting vast variety of graphs, starting from histograms to line plots to heat plots.  \n",
    "   \n",
    "4. **Pandas** for structured data operations and manipulations. It is extensively used for data munging and preparation.   \n",
    "\n",
    "5. **Scikit** Built on NumPy, SciPy and matplotlib, this library contains a lot of efficient tools for machine learning and statistical modeling including classification, regression, clustering and dimensionality reduction.\n"
   ]
  },
  {
   "cell_type": "markdown",
   "metadata": {},
   "source": [
    "<strong><span style=\"color:Blue\"> B. Introduction to NumPy </span></strong>         "
   ]
  },
  {
   "cell_type": "code",
   "execution_count": 83,
   "metadata": {},
   "outputs": [
    {
     "name": "stdout",
     "output_type": "stream",
     "text": [
      "[[1 2 3]\n",
      " [4 5 6]]\n"
     ]
    }
   ],
   "source": [
    "import numpy as np\n",
    "a=np.array([(1,2,3),(4,5,6)])\n",
    "print(a)"
   ]
  },
  {
   "cell_type": "markdown",
   "metadata": {},
   "source": [
    "<div class=\"alert alert-block alert-danger\">\n",
    "<b> But why use NumPy </b> when we have lists/arrays in Python.\n",
    "</div>"
   ]
  },
  {
   "cell_type": "markdown",
   "metadata": {},
   "source": [
    "* It's **fast** :When numpy sees an array it know exactly what it contains (integers or floats - actual values stored in memory), and what size the array is.\n",
    "When Python sees a list it knows it contains objects, and it has further steps to take before it is able execute an operation.\n",
    "* It requires **less memory** : Lists can contain objects of differing types meaning that Python must store type information for every element.\n",
    "* It is more **convenient** : Support for elment wise multiplication , addition and other operations."
   ]
  },
  {
   "cell_type": "code",
   "execution_count": 86,
   "metadata": {},
   "outputs": [
    {
     "data": {
      "text/plain": [
       "0.816496580927726"
      ]
     },
     "execution_count": 86,
     "metadata": {},
     "output_type": "execute_result"
    }
   ],
   "source": [
    "list=[1,2,3]\n",
    "arr_2d = np.array(list)\n",
    "\n",
    "identity_matrix = np.eye(6)\n",
    "\n",
    "all_ones= np.ones(5)\n",
    "\n",
    "std = np.std(arr_2d)"
   ]
  },
  {
   "cell_type": "markdown",
   "metadata": {},
   "source": [
    "<a id=\"4\"></a>"
   ]
  },
  {
   "cell_type": "markdown",
   "metadata": {},
   "source": [
    "<strong><span style=\"color:Blue\"> C. Introduction to DataStructure : Series and Dataframes </span></strong> \n",
    "            \n",
    "1. <strong><span style=\"color:Red\">Series:</span></strong> It is a one-dimensional labeled array capable of holding data of any type (integer, string, float, python objects, etc.)."
   ]
  },
  {
   "cell_type": "code",
   "execution_count": 96,
   "metadata": {},
   "outputs": [
    {
     "name": "stdout",
     "output_type": "stream",
     "text": [
      "0    1\n",
      "1    a\n",
      "2    3\n",
      "dtype: object\n"
     ]
    },
    {
     "data": {
      "text/plain": [
       "a    1\n",
       "b    2\n",
       "c    3\n",
       "d    4\n",
       "e    5\n",
       "dtype: int64"
      ]
     },
     "execution_count": 96,
     "metadata": {},
     "output_type": "execute_result"
    }
   ],
   "source": [
    "import pandas as pd\n",
    "list = [1,'a',3]\n",
    "s = pd.Series(list)\n",
    "print (s)\n",
    "\n",
    "pd.Series([1,2,3,4,5],index = ['a','b','c','d','e'])"
   ]
  },
  {
   "cell_type": "markdown",
   "metadata": {},
   "source": [
    "2. <strong> <span style=\"color:Red\">DataFrame: </span></strong> Data frame is a two-dimensional data structure, i.e., data is aligned in a tabular fashion in rows and columns."
   ]
  },
  {
   "cell_type": "code",
   "execution_count": 97,
   "metadata": {},
   "outputs": [
    {
     "name": "stdout",
     "output_type": "stream",
     "text": [
      "   CID  Sales\n",
      "0   11     12\n",
      "1   36     25\n",
      "2   47      1\n"
     ]
    }
   ],
   "source": [
    "data = [[11,12],[36,25],[47,1]]\n",
    "df = pd.DataFrame(data,columns=['CID','Sales'])\n",
    "print (df)"
   ]
  },
  {
   "cell_type": "markdown",
   "metadata": {},
   "source": [
    "<strong><span style=\"color:Blue\"> Basic DataFrame operations </span></strong> "
   ]
  },
  {
   "cell_type": "code",
   "execution_count": 100,
   "metadata": {},
   "outputs": [
    {
     "data": {
      "text/plain": [
       "CID               5000\n",
       "Gross sales       5000\n",
       "Margin            4998\n",
       "Gender            5000\n",
       "Trips             5000\n",
       "Sales_Womens      5000\n",
       "Sales_Men         5000\n",
       "Sales_Home        5000\n",
       "Sales_Kids        5000\n",
       "Sales_Salon       5000\n",
       "Sales_Sephora     5000\n",
       "Sales_Jewellry    5000\n",
       "dtype: int64"
      ]
     },
     "execution_count": 100,
     "metadata": {},
     "output_type": "execute_result"
    }
   ],
   "source": [
    "# Read csv file\n",
    "df = pd.read_csv(\"JCP.csv\")\n",
    "df.head()\n",
    "df.count()"
   ]
  },
  {
   "cell_type": "code",
   "execution_count": 101,
   "metadata": {},
   "outputs": [
    {
     "data": {
      "text/html": [
       "<div>\n",
       "<style scoped>\n",
       "    .dataframe tbody tr th:only-of-type {\n",
       "        vertical-align: middle;\n",
       "    }\n",
       "\n",
       "    .dataframe tbody tr th {\n",
       "        vertical-align: top;\n",
       "    }\n",
       "\n",
       "    .dataframe thead th {\n",
       "        text-align: right;\n",
       "    }\n",
       "</style>\n",
       "<table border=\"1\" class=\"dataframe\">\n",
       "  <thead>\n",
       "    <tr style=\"text-align: right;\">\n",
       "      <th></th>\n",
       "      <th>CID</th>\n",
       "      <th>Gross sales</th>\n",
       "      <th>Margin</th>\n",
       "      <th>Gender</th>\n",
       "      <th>Trips</th>\n",
       "      <th>Sales_Womens</th>\n",
       "      <th>Sales_Men</th>\n",
       "      <th>Sales_Home</th>\n",
       "      <th>Sales_Kids</th>\n",
       "      <th>Sales_Salon</th>\n",
       "      <th>Sales_Sephora</th>\n",
       "      <th>Sales_Jewellry</th>\n",
       "    </tr>\n",
       "  </thead>\n",
       "  <tbody>\n",
       "    <tr>\n",
       "      <th>0</th>\n",
       "      <td>11</td>\n",
       "      <td>1228.30</td>\n",
       "      <td>114.29</td>\n",
       "      <td>Female</td>\n",
       "      <td>17</td>\n",
       "      <td>848.91</td>\n",
       "      <td>26.11</td>\n",
       "      <td>192.98</td>\n",
       "      <td>86.87</td>\n",
       "      <td>0.0</td>\n",
       "      <td>0.0</td>\n",
       "      <td>0.0</td>\n",
       "    </tr>\n",
       "    <tr>\n",
       "      <th>1</th>\n",
       "      <td>19</td>\n",
       "      <td>133.40</td>\n",
       "      <td>0.00</td>\n",
       "      <td>Female</td>\n",
       "      <td>2</td>\n",
       "      <td>116.93</td>\n",
       "      <td>0.00</td>\n",
       "      <td>5.99</td>\n",
       "      <td>10.48</td>\n",
       "      <td>0.0</td>\n",
       "      <td>0.0</td>\n",
       "      <td>0.0</td>\n",
       "    </tr>\n",
       "    <tr>\n",
       "      <th>2</th>\n",
       "      <td>24</td>\n",
       "      <td>290.45</td>\n",
       "      <td>147.57</td>\n",
       "      <td>Female</td>\n",
       "      <td>9</td>\n",
       "      <td>189.28</td>\n",
       "      <td>42.19</td>\n",
       "      <td>39.98</td>\n",
       "      <td>0.00</td>\n",
       "      <td>19.0</td>\n",
       "      <td>0.0</td>\n",
       "      <td>0.0</td>\n",
       "    </tr>\n",
       "    <tr>\n",
       "      <th>3</th>\n",
       "      <td>33</td>\n",
       "      <td>115.03</td>\n",
       "      <td>0.00</td>\n",
       "      <td>Female</td>\n",
       "      <td>2</td>\n",
       "      <td>0.00</td>\n",
       "      <td>12.49</td>\n",
       "      <td>44.99</td>\n",
       "      <td>57.55</td>\n",
       "      <td>0.0</td>\n",
       "      <td>0.0</td>\n",
       "      <td>0.0</td>\n",
       "    </tr>\n",
       "    <tr>\n",
       "      <th>4</th>\n",
       "      <td>37</td>\n",
       "      <td>329.46</td>\n",
       "      <td>187.87</td>\n",
       "      <td>Female</td>\n",
       "      <td>4</td>\n",
       "      <td>101.53</td>\n",
       "      <td>32.77</td>\n",
       "      <td>61.99</td>\n",
       "      <td>17.97</td>\n",
       "      <td>0.0</td>\n",
       "      <td>0.0</td>\n",
       "      <td>0.0</td>\n",
       "    </tr>\n",
       "  </tbody>\n",
       "</table>\n",
       "</div>"
      ],
      "text/plain": [
       "   CID  Gross sales  Margin  Gender  Trips  Sales_Womens  Sales_Men  \\\n",
       "0   11      1228.30  114.29  Female     17        848.91      26.11   \n",
       "1   19       133.40    0.00  Female      2        116.93       0.00   \n",
       "2   24       290.45  147.57  Female      9        189.28      42.19   \n",
       "3   33       115.03    0.00  Female      2          0.00      12.49   \n",
       "4   37       329.46  187.87  Female      4        101.53      32.77   \n",
       "\n",
       "   Sales_Home  Sales_Kids  Sales_Salon  Sales_Sephora  Sales_Jewellry  \n",
       "0      192.98       86.87          0.0            0.0             0.0  \n",
       "1        5.99       10.48          0.0            0.0             0.0  \n",
       "2       39.98        0.00         19.0            0.0             0.0  \n",
       "3       44.99       57.55          0.0            0.0             0.0  \n",
       "4       61.99       17.97          0.0            0.0             0.0  "
      ]
     },
     "execution_count": 101,
     "metadata": {},
     "output_type": "execute_result"
    }
   ],
   "source": [
    "# Missing value Treatment\n",
    "df = df.fillna(0)\n",
    "df.head()"
   ]
  },
  {
   "cell_type": "code",
   "execution_count": 102,
   "metadata": {},
   "outputs": [
    {
     "data": {
      "text/html": [
       "<div>\n",
       "<style scoped>\n",
       "    .dataframe tbody tr th:only-of-type {\n",
       "        vertical-align: middle;\n",
       "    }\n",
       "\n",
       "    .dataframe tbody tr th {\n",
       "        vertical-align: top;\n",
       "    }\n",
       "\n",
       "    .dataframe thead th {\n",
       "        text-align: right;\n",
       "    }\n",
       "</style>\n",
       "<table border=\"1\" class=\"dataframe\">\n",
       "  <thead>\n",
       "    <tr style=\"text-align: right;\">\n",
       "      <th></th>\n",
       "      <th>CID</th>\n",
       "      <th>Gross sales</th>\n",
       "      <th>Margin</th>\n",
       "      <th>Trips</th>\n",
       "      <th>Sales_Womens</th>\n",
       "      <th>Sales_Men</th>\n",
       "      <th>Sales_Home</th>\n",
       "      <th>Sales_Kids</th>\n",
       "      <th>Sales_Salon</th>\n",
       "      <th>Sales_Sephora</th>\n",
       "      <th>Sales_Jewellry</th>\n",
       "    </tr>\n",
       "  </thead>\n",
       "  <tbody>\n",
       "    <tr>\n",
       "      <th>0</th>\n",
       "      <td>11</td>\n",
       "      <td>1228.30</td>\n",
       "      <td>114.29</td>\n",
       "      <td>17</td>\n",
       "      <td>848.91</td>\n",
       "      <td>26.11</td>\n",
       "      <td>192.98</td>\n",
       "      <td>86.87</td>\n",
       "      <td>0.0</td>\n",
       "      <td>0.0</td>\n",
       "      <td>0.0</td>\n",
       "    </tr>\n",
       "    <tr>\n",
       "      <th>1</th>\n",
       "      <td>19</td>\n",
       "      <td>133.40</td>\n",
       "      <td>0.00</td>\n",
       "      <td>2</td>\n",
       "      <td>116.93</td>\n",
       "      <td>0.00</td>\n",
       "      <td>5.99</td>\n",
       "      <td>10.48</td>\n",
       "      <td>0.0</td>\n",
       "      <td>0.0</td>\n",
       "      <td>0.0</td>\n",
       "    </tr>\n",
       "    <tr>\n",
       "      <th>2</th>\n",
       "      <td>24</td>\n",
       "      <td>290.45</td>\n",
       "      <td>147.57</td>\n",
       "      <td>9</td>\n",
       "      <td>189.28</td>\n",
       "      <td>42.19</td>\n",
       "      <td>39.98</td>\n",
       "      <td>0.00</td>\n",
       "      <td>19.0</td>\n",
       "      <td>0.0</td>\n",
       "      <td>0.0</td>\n",
       "    </tr>\n",
       "    <tr>\n",
       "      <th>3</th>\n",
       "      <td>33</td>\n",
       "      <td>115.03</td>\n",
       "      <td>0.00</td>\n",
       "      <td>2</td>\n",
       "      <td>0.00</td>\n",
       "      <td>12.49</td>\n",
       "      <td>44.99</td>\n",
       "      <td>57.55</td>\n",
       "      <td>0.0</td>\n",
       "      <td>0.0</td>\n",
       "      <td>0.0</td>\n",
       "    </tr>\n",
       "    <tr>\n",
       "      <th>4</th>\n",
       "      <td>37</td>\n",
       "      <td>329.46</td>\n",
       "      <td>187.87</td>\n",
       "      <td>4</td>\n",
       "      <td>101.53</td>\n",
       "      <td>32.77</td>\n",
       "      <td>61.99</td>\n",
       "      <td>17.97</td>\n",
       "      <td>0.0</td>\n",
       "      <td>0.0</td>\n",
       "      <td>0.0</td>\n",
       "    </tr>\n",
       "  </tbody>\n",
       "</table>\n",
       "</div>"
      ],
      "text/plain": [
       "   CID  Gross sales  Margin  Trips  Sales_Womens  Sales_Men  Sales_Home  \\\n",
       "0   11      1228.30  114.29     17        848.91      26.11      192.98   \n",
       "1   19       133.40    0.00      2        116.93       0.00        5.99   \n",
       "2   24       290.45  147.57      9        189.28      42.19       39.98   \n",
       "3   33       115.03    0.00      2          0.00      12.49       44.99   \n",
       "4   37       329.46  187.87      4        101.53      32.77       61.99   \n",
       "\n",
       "   Sales_Kids  Sales_Salon  Sales_Sephora  Sales_Jewellry  \n",
       "0       86.87          0.0            0.0             0.0  \n",
       "1       10.48          0.0            0.0             0.0  \n",
       "2        0.00         19.0            0.0             0.0  \n",
       "3       57.55          0.0            0.0             0.0  \n",
       "4       17.97          0.0            0.0             0.0  "
      ]
     },
     "execution_count": 102,
     "metadata": {},
     "output_type": "execute_result"
    }
   ],
   "source": [
    "# Drop a variable\n",
    "df = df.drop(['Gender'],axis=1)\n",
    "df.head()"
   ]
  },
  {
   "cell_type": "code",
   "execution_count": 103,
   "metadata": {},
   "outputs": [
    {
     "data": {
      "text/html": [
       "<div>\n",
       "<style scoped>\n",
       "    .dataframe tbody tr th:only-of-type {\n",
       "        vertical-align: middle;\n",
       "    }\n",
       "\n",
       "    .dataframe tbody tr th {\n",
       "        vertical-align: top;\n",
       "    }\n",
       "\n",
       "    .dataframe thead th {\n",
       "        text-align: right;\n",
       "    }\n",
       "</style>\n",
       "<table border=\"1\" class=\"dataframe\">\n",
       "  <thead>\n",
       "    <tr style=\"text-align: right;\">\n",
       "      <th></th>\n",
       "      <th>Customers</th>\n",
       "      <th>Gross sales</th>\n",
       "      <th>Margin</th>\n",
       "      <th>Trips</th>\n",
       "      <th>Sales_Womens</th>\n",
       "      <th>Sales_Men</th>\n",
       "      <th>Sales_Home</th>\n",
       "      <th>Sales_Kids</th>\n",
       "      <th>Sales_Salon</th>\n",
       "      <th>Sales_Sephora</th>\n",
       "      <th>Sales_Jewellry</th>\n",
       "    </tr>\n",
       "  </thead>\n",
       "  <tbody>\n",
       "    <tr>\n",
       "      <th>0</th>\n",
       "      <td>11</td>\n",
       "      <td>1228.30</td>\n",
       "      <td>114.29</td>\n",
       "      <td>17</td>\n",
       "      <td>848.91</td>\n",
       "      <td>26.11</td>\n",
       "      <td>192.98</td>\n",
       "      <td>86.87</td>\n",
       "      <td>0.0</td>\n",
       "      <td>0.0</td>\n",
       "      <td>0.0</td>\n",
       "    </tr>\n",
       "    <tr>\n",
       "      <th>1</th>\n",
       "      <td>19</td>\n",
       "      <td>133.40</td>\n",
       "      <td>0.00</td>\n",
       "      <td>2</td>\n",
       "      <td>116.93</td>\n",
       "      <td>0.00</td>\n",
       "      <td>5.99</td>\n",
       "      <td>10.48</td>\n",
       "      <td>0.0</td>\n",
       "      <td>0.0</td>\n",
       "      <td>0.0</td>\n",
       "    </tr>\n",
       "    <tr>\n",
       "      <th>2</th>\n",
       "      <td>24</td>\n",
       "      <td>290.45</td>\n",
       "      <td>147.57</td>\n",
       "      <td>9</td>\n",
       "      <td>189.28</td>\n",
       "      <td>42.19</td>\n",
       "      <td>39.98</td>\n",
       "      <td>0.00</td>\n",
       "      <td>19.0</td>\n",
       "      <td>0.0</td>\n",
       "      <td>0.0</td>\n",
       "    </tr>\n",
       "    <tr>\n",
       "      <th>3</th>\n",
       "      <td>33</td>\n",
       "      <td>115.03</td>\n",
       "      <td>0.00</td>\n",
       "      <td>2</td>\n",
       "      <td>0.00</td>\n",
       "      <td>12.49</td>\n",
       "      <td>44.99</td>\n",
       "      <td>57.55</td>\n",
       "      <td>0.0</td>\n",
       "      <td>0.0</td>\n",
       "      <td>0.0</td>\n",
       "    </tr>\n",
       "    <tr>\n",
       "      <th>4</th>\n",
       "      <td>37</td>\n",
       "      <td>329.46</td>\n",
       "      <td>187.87</td>\n",
       "      <td>4</td>\n",
       "      <td>101.53</td>\n",
       "      <td>32.77</td>\n",
       "      <td>61.99</td>\n",
       "      <td>17.97</td>\n",
       "      <td>0.0</td>\n",
       "      <td>0.0</td>\n",
       "      <td>0.0</td>\n",
       "    </tr>\n",
       "  </tbody>\n",
       "</table>\n",
       "</div>"
      ],
      "text/plain": [
       "   Customers  Gross sales  Margin  Trips  Sales_Womens  Sales_Men  Sales_Home  \\\n",
       "0         11      1228.30  114.29     17        848.91      26.11      192.98   \n",
       "1         19       133.40    0.00      2        116.93       0.00        5.99   \n",
       "2         24       290.45  147.57      9        189.28      42.19       39.98   \n",
       "3         33       115.03    0.00      2          0.00      12.49       44.99   \n",
       "4         37       329.46  187.87      4        101.53      32.77       61.99   \n",
       "\n",
       "   Sales_Kids  Sales_Salon  Sales_Sephora  Sales_Jewellry  \n",
       "0       86.87          0.0            0.0             0.0  \n",
       "1       10.48          0.0            0.0             0.0  \n",
       "2        0.00         19.0            0.0             0.0  \n",
       "3       57.55          0.0            0.0             0.0  \n",
       "4       17.97          0.0            0.0             0.0  "
      ]
     },
     "execution_count": 103,
     "metadata": {},
     "output_type": "execute_result"
    }
   ],
   "source": [
    "# Rename a variable\n",
    "df = df.rename(columns = {\"CID\" : \"Customers\"})\n",
    "df.head()"
   ]
  },
  {
   "cell_type": "code",
   "execution_count": 104,
   "metadata": {},
   "outputs": [
    {
     "data": {
      "text/plain": [
       "(5000, 11)"
      ]
     },
     "execution_count": 104,
     "metadata": {},
     "output_type": "execute_result"
    }
   ],
   "source": [
    "# Descriptive statistics\n",
    "df['Customers'].describe()\n",
    "\n",
    "# List columns\n",
    "df.columns\n",
    "\n",
    "# Check datatype\n",
    "df.dtypes\n",
    "\n",
    "# Check dimension of df\n",
    "df.shape"
   ]
  },
  {
   "cell_type": "code",
   "execution_count": 105,
   "metadata": {},
   "outputs": [
    {
     "name": "stderr",
     "output_type": "stream",
     "text": [
      "C:\\Users\\ssharm35\\AppData\\Local\\Continuum\\anaconda3\\lib\\site-packages\\ipykernel_launcher.py:5: SettingWithCopyWarning: \n",
      "A value is trying to be set on a copy of a slice from a DataFrame.\n",
      "Try using .loc[row_indexer,col_indexer] = value instead\n",
      "\n",
      "See the caveats in the documentation: http://pandas.pydata.org/pandas-docs/stable/indexing.html#indexing-view-versus-copy\n",
      "  \"\"\"\n"
     ]
    },
    {
     "data": {
      "text/plain": [
       "Customers    516\n",
       "Flag         516\n",
       "dtype: int64"
      ]
     },
     "execution_count": 105,
     "metadata": {},
     "output_type": "execute_result"
    }
   ],
   "source": [
    "# Filtering df based on a value ~ (Where claus in SQL)\n",
    "df[(df['Trips'] > 10)].head()\n",
    "df[(df['Trips'] > 10)].count()  \n",
    "new_df = df[(df['Trips'] > 10)]\n",
    "\n",
    "# Add a new column\n",
    "new_df[\"Flag\"] = 1\n",
    "new_df = new_df[['Customers','Flag']]\n",
    "new_df.head()\n",
    "new_df.count()"
   ]
  },
  {
   "cell_type": "code",
   "execution_count": 108,
   "metadata": {},
   "outputs": [
    {
     "data": {
      "text/plain": [
       "Customers_left    72\n",
       "Gross sales       72\n",
       "Margin            72\n",
       "Trips             72\n",
       "Sales_Womens      72\n",
       "Sales_Men         72\n",
       "Sales_Home        72\n",
       "Sales_Kids        72\n",
       "Sales_Salon       72\n",
       "Sales_Sephora     72\n",
       "Sales_Jewellry    72\n",
       "Customers         72\n",
       "Flag              72\n",
       "dtype: int64"
      ]
     },
     "execution_count": 108,
     "metadata": {},
     "output_type": "execute_result"
    }
   ],
   "source": [
    "# Join and append ~ (Join and Union in SQL)\n",
    "\n",
    "# Using Merge\n",
    "result = df.merge(new_df, on=\"Customers\",suffixes=('_left', '_right'),how = \"inner\")\n",
    "result.head()\n",
    "result.count()\n",
    "\n",
    "#Using Join\n",
    "result = df.join(new_df, on=\"Customers\",lsuffix = '_left',how = \"inner\")\n",
    "result.head()\n",
    "result.count()\n"
   ]
  },
  {
   "cell_type": "markdown",
   "metadata": {},
   "source": [
    "<div class=\"alert alert-block alert-info\">\n",
    "<b>Note:</b> The key on the left DF can be a column or an index but for the right DF, the join key must be its index. It is easier to think of the join method as joining based on the index while merge can be used on any columns </div>"
   ]
  },
  {
   "cell_type": "code",
   "execution_count": 107,
   "metadata": {},
   "outputs": [
    {
     "data": {
      "text/html": [
       "<div>\n",
       "<style scoped>\n",
       "    .dataframe tbody tr th:only-of-type {\n",
       "        vertical-align: middle;\n",
       "    }\n",
       "\n",
       "    .dataframe tbody tr th {\n",
       "        vertical-align: top;\n",
       "    }\n",
       "\n",
       "    .dataframe thead tr th {\n",
       "        text-align: left;\n",
       "    }\n",
       "</style>\n",
       "<table border=\"1\" class=\"dataframe\">\n",
       "  <thead>\n",
       "    <tr>\n",
       "      <th></th>\n",
       "      <th>Trips</th>\n",
       "      <th>Gross sales</th>\n",
       "    </tr>\n",
       "    <tr>\n",
       "      <th></th>\n",
       "      <th></th>\n",
       "      <th>sum</th>\n",
       "    </tr>\n",
       "  </thead>\n",
       "  <tbody>\n",
       "    <tr>\n",
       "      <th>0</th>\n",
       "      <td>1</td>\n",
       "      <td>117381.58</td>\n",
       "    </tr>\n",
       "    <tr>\n",
       "      <th>1</th>\n",
       "      <td>2</td>\n",
       "      <td>126523.53</td>\n",
       "    </tr>\n",
       "    <tr>\n",
       "      <th>2</th>\n",
       "      <td>3</td>\n",
       "      <td>122409.56</td>\n",
       "    </tr>\n",
       "    <tr>\n",
       "      <th>3</th>\n",
       "      <td>4</td>\n",
       "      <td>122329.96</td>\n",
       "    </tr>\n",
       "    <tr>\n",
       "      <th>4</th>\n",
       "      <td>5</td>\n",
       "      <td>105176.85</td>\n",
       "    </tr>\n",
       "  </tbody>\n",
       "</table>\n",
       "</div>"
      ],
      "text/plain": [
       "  Trips Gross sales\n",
       "                sum\n",
       "0     1   117381.58\n",
       "1     2   126523.53\n",
       "2     3   122409.56\n",
       "3     4   122329.96\n",
       "4     5   105176.85"
      ]
     },
     "execution_count": 107,
     "metadata": {},
     "output_type": "execute_result"
    }
   ],
   "source": [
    "# Group by ~ (Group by clause in SQL)\n",
    "grouped_sales = df.groupby('Trips',as_index=False).agg({'Gross sales': ['sum']})\n",
    "grouped_sales.head()"
   ]
  },
  {
   "cell_type": "markdown",
   "metadata": {},
   "source": [
    "<strong><span style=\"color:Blue\"> Introduction to Matplotlib and Seaborn ~ For Visualization  </span></strong> "
   ]
  },
  {
   "cell_type": "code",
   "execution_count": 76,
   "metadata": {},
   "outputs": [
    {
     "data": {
      "image/png": "[encoded data removed]",
      "text/plain": [
       "<Figure size 842.4x595.44 with 2 Axes>"
      ]
     },
     "metadata": {},
     "output_type": "display_data"
    }
   ],
   "source": [
    "# Using Matplotlib and seaborn for visualization\n",
    "import seaborn as sns\n",
    "import matplotlib.pyplot as plt\n",
    "sns.set(rc={'figure.figsize':(11.7,8.27)})\n",
    "df.corr()\n",
    "sns.heatmap(df.corr(), annot=True)\n",
    "plt.show()"
   ]
  },
  {
   "cell_type": "code",
   "execution_count": null,
   "metadata": {},
   "outputs": [],
   "source": []
  }
 ],
 "metadata": {
  "kernelspec": {
   "display_name": "Python 3",
   "language": "python",
   "name": "python3"
  },
  "language_info": {
   "codemirror_mode": {
    "name": "ipython",
    "version": 3
   },
   "file_extension": ".py",
   "mimetype": "text/x-python",
   "name": "python",
   "nbconvert_exporter": "python",
   "pygments_lexer": "ipython3",
   "version": "3.7.3"
  }
 },
 "nbformat": 4,
 "nbformat_minor": 2
}
